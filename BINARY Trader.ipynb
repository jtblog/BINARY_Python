{
 "cells": [
  {
   "cell_type": "code",
   "execution_count": 41,
   "metadata": {},
   "outputs": [],
   "source": [
    "import websocket\n",
    "import json\n",
    "from ipywidgets import interact, interactive, fixed, interact_manual\n",
    "\n",
    "import pandas\n",
    "import os\n",
    "import threading\n",
    "import time\n",
    "import importlib\n",
    "import sys\n",
    "import warnings\n",
    "mpath = os.getcwd() + '/libs'\n",
    "sys.path.append(mpath)"
   ]
  },
  {
   "cell_type": "code",
   "execution_count": 42,
   "metadata": {},
   "outputs": [
    {
     "data": {
      "text/plain": [
       "<module 'pairs' from 'C:\\\\Users\\\\dell\\\\Documents\\\\GitHub\\\\BINARY_Python/libs\\\\pairs.py'>"
      ]
     },
     "execution_count": 42,
     "metadata": {},
     "output_type": "execute_result"
    }
   ],
   "source": [
    "import SharedObjects\n",
    "import pairs\n",
    "importlib.reload(SharedObjects)\n",
    "importlib.reload(pairs)"
   ]
  },
  {
   "cell_type": "code",
   "execution_count": 43,
   "metadata": {},
   "outputs": [],
   "source": [
    "ws = None\n",
    "data = None\n",
    "\n",
    "apiUrl = \"wss://ws.binaryws.com/websockets/v3?app_id=15805\"\n",
    "def on_open(ws):\n",
    "    json_data = json.dumps({'authorize':'1aStI5HCcty55Ly'})\n",
    "    ws.send(json_data)\n",
    "    return\n",
    "\n",
    "def on_message(ws, message):\n",
    "    global data\n",
    "    data = json.loads(message)\n",
    "    sh_obj.update(data)\n",
    "    return\n",
    "    \n",
    "ws = websocket.WebSocketApp(apiUrl, on_message = on_message, on_open = on_open)\n",
    "sh_obj = SharedObjects.SharedObjects(ws)"
   ]
  },
  {
   "cell_type": "code",
   "execution_count": 15,
   "metadata": {},
   "outputs": [],
   "source": [
    "#sh_obj.prs.get('frxAUDUSD').standardized_prices"
   ]
  },
  {
   "cell_type": "code",
   "execution_count": 44,
   "metadata": {},
   "outputs": [],
   "source": [
    "#quote = data['tick']['quote']\n",
    "#pid = data['tick']['id']\n",
    "#symbol = data['tick']['symbol']\n",
    "#time = datetime.datetime.fromtimestamp(int(data['tick']['epoch']))\n",
    "#sh_obj.corr_mat"
   ]
  },
  {
   "cell_type": "code",
   "execution_count": 271,
   "metadata": {},
   "outputs": [],
   "source": [
    "sh_obj.logout()\n",
    "#ws.send(json.dumps({\"forget_all\": \"ticks\"}))\n",
    "#ws.send(json.dumps({'logout': 1}))"
   ]
  },
  {
   "cell_type": "code",
   "execution_count": 45,
   "metadata": {},
   "outputs": [
    {
     "data": {
      "application/vnd.jupyter.widget-view+json": {
       "model_id": "d914da56143145899debf2f21e7b354b",
       "version_major": 2,
       "version_minor": 0
      },
      "text/plain": [
       "interactive(children=(Dropdown(description='y', options=('frxAUDJPY', 'frxAUDUSD', 'frxEURAUD', 'frxEURCAD', '…"
      ]
     },
     "metadata": {},
     "output_type": "display_data"
    }
   ],
   "source": [
    "y = interactive(sh_obj.pairwise_plot, y = sh_obj.forex_major, x = sh_obj.forex_major)\n",
    "display(y)"
   ]
  },
  {
   "cell_type": "code",
   "execution_count": 47,
   "metadata": {},
   "outputs": [
    {
     "data": {
      "application/vnd.jupyter.widget-view+json": {
       "model_id": "6c2fdbf5b9904a66bd82c278d513d52f",
       "version_major": 2,
       "version_minor": 0
      },
      "text/plain": [
       "interactive(children=(Dropdown(description='y', options=('frxAUDJPY', 'frxAUDUSD', 'frxEURAUD', 'frxEURCAD', '…"
      ]
     },
     "metadata": {},
     "output_type": "display_data"
    }
   ],
   "source": [
    "y = interactive(sh_obj.pairwise_spreadplot, y = sh_obj.forex_major, x = sh_obj.forex_major)\n",
    "display(y)"
   ]
  },
  {
   "cell_type": "code",
   "execution_count": 46,
   "metadata": {},
   "outputs": [
    {
     "data": {
      "application/vnd.jupyter.widget-view+json": {
       "model_id": "d6fdc29c846f47c6b195e7f1fabacaa5",
       "version_major": 2,
       "version_minor": 0
      },
      "text/plain": [
       "interactive(children=(Output(),), _dom_classes=('widget-interact',))"
      ]
     },
     "metadata": {},
     "output_type": "display_data"
    }
   ],
   "source": [
    "def view():\n",
    "    display(sh_obj.coint_mat)\n",
    "    display(sh_obj.corr_mat)\n",
    "    return()\n",
    "x = interactive(view)\n",
    "x"
   ]
  },
  {
   "cell_type": "code",
   "execution_count": 40,
   "metadata": {},
   "outputs": [],
   "source": [
    "#data"
   ]
  },
  {
   "cell_type": "code",
   "execution_count": null,
   "metadata": {},
   "outputs": [],
   "source": []
  }
 ],
 "metadata": {
  "kernelspec": {
   "display_name": "Python 3",
   "language": "python",
   "name": "python3"
  },
  "language_info": {
   "codemirror_mode": {
    "name": "ipython",
    "version": 3
   },
   "file_extension": ".py",
   "mimetype": "text/x-python",
   "name": "python",
   "nbconvert_exporter": "python",
   "pygments_lexer": "ipython3",
   "version": "3.7.1"
  }
 },
 "nbformat": 4,
 "nbformat_minor": 2
}
