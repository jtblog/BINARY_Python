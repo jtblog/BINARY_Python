{
 "cells": [
  {
   "cell_type": "code",
   "execution_count": null,
   "metadata": {},
   "outputs": [],
   "source": [
    "#!pip install -r requirements.txt"
   ]
  },
  {
   "cell_type": "code",
   "execution_count": null,
   "metadata": {},
   "outputs": [],
   "source": [
    "from IPython import get_ipython  \n",
    "import websocket\n",
    "import json\n",
    "import os\n",
    "import importlib\n",
    "import sys\n",
    "import warnings\n",
    "from IPython.display import clear_output, Audio\n",
    "sys.path.append(os.getcwd() + '/libs')\n",
    "sys.path.append(os.getcwd() + '/data')\n",
    "sys.path.append(os.getcwd() + '/sounds')\n",
    "import SharedObjects\n",
    "import pairs\n",
    "importlib.reload(SharedObjects)\n",
    "importlib.reload(pairs)\n",
    "import threading"
   ]
  },
  {
   "cell_type": "code",
   "execution_count": null,
   "metadata": {
    "scrolled": false
   },
   "outputs": [],
   "source": [
    "global ws\n",
    "global data\n",
    "global test_data\n",
    "global sh_obj\n",
    "\n",
    "apiUrl = \"wss://ws.binaryws.com/websockets/v3?app_id=15805\"\n",
    "def on_open(ws):\n",
<<<<<<< HEAD
    "    global sh_obj\n",
    "    json_data = json.dumps({'authorize':'1aStI5HCcty55Ly'})\n",
=======
    "    json_data = json.dumps({'authorize':''})\n",
>>>>>>> be8d3805d81d6ff8487e1578a44d68d933e8a946
    "    ws.send(json_data)\n",
    "    return\n",
    "\n",
    "def on_error(ws):\n",
    "    try:\n",
    "        clear_output()\n",
    "        ws = websocket.WebSocketApp(apiUrl, on_message = on_message, on_open = on_open)\n",
    "        sh_obj.login(ws)\n",
    "    except:\n",
    "        pass\n",
    "    return\n",
    "\n",
    "def update(data):\n",
    "    global ws, sh_obj, update, test_data\n",
    "    if (sh_obj.exitcode == 1 and sh_obj is not None):\n",
    "        try:\n",
    "            del sh_obj\n",
    "            del update\n",
    "            del on_message\n",
    "            del ws\n",
    "            get_ipython().magic('reset -sf')\n",
    "        except:\n",
    "            pass\n",
    "    elif (sh_obj.exitcode == 0):\n",
    "        if ('proposal' in data): test_data = data\n",
    "        sh_obj.update(data)\n",
    "    return\n",
    "\n",
    "def on_message(ws, message):\n",
    "    global data\n",
    "    data = json.loads(message)\n",
    "    threading.Thread(target=update, args=(data,)).start()\n",
    "    return\n",
    "\n",
    "def start():\n",
    "    global ws, sh_obj\n",
    "    ws = websocket.WebSocketApp(apiUrl, on_message = on_message, on_open = on_open)\n",
    "    sh_obj = SharedObjects.SharedObjects(ws)\n",
    "threading.Thread(target=start).start()"
   ]
  },
  {
   "cell_type": "code",
   "execution_count": null,
   "metadata": {},
   "outputs": [],
   "source": [
    "try:\n",
    "    def logout():\n",
    "        clear_output()\n",
    "        sh_obj.logout()\n",
    "        ws.close()\n",
    "        clear_output()\n",
    "    threading.Thread(target = logout).start()\n",
    "except:\n",
    "    pass"
   ]
  },
  {
   "cell_type": "code",
   "execution_count": null,
   "metadata": {},
   "outputs": [],
   "source": [
    "#import numpy as np\n",
    "#import pandas as pd\n",
    "sym = 'R_10'\n",
    "#sh_obj.prs.get(sym).l7\n",
    "#sh_obj.prs.get(sym).g2\n",
    "sh_obj.trade_ou45 = True\n",
    "sh_obj.trade_ou27 = True\n",
    "sh_obj.trade_diff = True"
   ]
  },
  {
   "cell_type": "code",
   "execution_count": null,
   "metadata": {},
   "outputs": [],
   "source": [
    "sh_obj.trade_ou45 = False\n",
    "sh_obj.trade_ou27 = False\n",
    "sh_obj.trade_diff = False"
   ]
  },
  {
   "cell_type": "code",
   "execution_count": null,
   "metadata": {},
   "outputs": [],
   "source": [
    "#sh_obj.set_alarm()\n",
    "sh_obj.set_autotrade()"
   ]
  },
  {
   "cell_type": "code",
   "execution_count": null,
   "metadata": {},
   "outputs": [],
   "source": [
    "sh_obj.account"
   ]
  },
  {
   "cell_type": "code",
   "execution_count": null,
   "metadata": {},
   "outputs": [],
   "source": [
    "sh_obj.isTraded"
   ]
  },
  {
   "cell_type": "code",
   "execution_count": null,
   "metadata": {},
   "outputs": [],
   "source": [
    "#sh_obj.get_charts()"
   ]
  },
  {
   "cell_type": "code",
   "execution_count": null,
   "metadata": {},
   "outputs": [],
   "source": [
    "#import numpy\n",
    "#from IPython.display import clear_output, Audio\n",
    "#display(Audio(numpy.sin(numpy.linspace(0, 4 * 4 * numpy.pi, 25)), rate=25000, autoplay=True))"
   ]
  },
  {
   "cell_type": "code",
   "execution_count": null,
   "metadata": {},
   "outputs": [],
   "source": [
    "a = 5"
   ]
  },
  {
   "cell_type": "code",
   "execution_count": 15,
   "metadata": {},
   "outputs": [],
   "source": [
    "a += (5)"
   ]
  },
  {
   "cell_type": "code",
   "execution_count": 16,
   "metadata": {},
   "outputs": [
    {
     "data": {
      "text/plain": [
       "14"
      ]
     },
     "execution_count": 16,
     "metadata": {},
     "output_type": "execute_result"
    }
   ],
   "source": [
    "a"
   ]
  },
  {
   "cell_type": "code",
   "execution_count": null,
   "metadata": {},
   "outputs": [],
   "source": []
  }
 ],
 "metadata": {
  "kernelspec": {
   "display_name": "Python 3",
   "language": "python",
   "name": "python3"
  },
  "language_info": {
   "codemirror_mode": {
    "name": "ipython",
    "version": 3
   },
   "file_extension": ".py",
   "mimetype": "text/x-python",
   "name": "python",
   "nbconvert_exporter": "python",
   "pygments_lexer": "ipython3",
   "version": "3.7.1"
  }
 },
 "nbformat": 4,
 "nbformat_minor": 2
}
