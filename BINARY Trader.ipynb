{
 "cells": [
  {
   "cell_type": "code",
   "execution_count": null,
   "metadata": {},
   "outputs": [],
   "source": [
    "#!pip install -r requirements.txt"
   ]
  },
  {
   "cell_type": "code",
   "execution_count": 24,
   "metadata": {},
   "outputs": [],
   "source": [
    "import websocket\n",
    "import json\n",
    "import os\n",
    "import importlib\n",
    "import sys\n",
    "import warnings\n",
    "mpath = os.getcwd() + '/libs'\n",
    "sys.path.append(mpath)"
   ]
  },
  {
   "cell_type": "code",
   "execution_count": 25,
   "metadata": {},
   "outputs": [],
   "source": [
    "import SharedObjects\n",
    "import pairs\n",
    "importlib.reload(SharedObjects)\n",
    "importlib.reload(pairs)\n",
    "import threading"
   ]
  },
  {
   "cell_type": "code",
   "execution_count": 26,
   "metadata": {},
   "outputs": [],
   "source": [
    "ws = None\n",
    "data = None\n",
    "\n",
    "apiUrl = \"wss://ws.binaryws.com/websockets/v3?app_id=15805\"\n",
    "def on_open(ws):\n",
    "    json_data = json.dumps({'authorize':'1aStI5HCcty55Ly'})\n",
    "    ws.send(json_data)\n",
    "    return\n",
    "\n",
    "def on_close(ws):\n",
    "    if(sh_obj.bool_ping is True):\n",
    "        ws = websocket.WebSocketApp(apiUrl, on_message = on_message, on_open = on_open)\n",
    "        sh_obj.login(ws, True)\n",
    "    return\n",
    "\n",
    "def on_error(ws):\n",
    "    if(sh_obj.bool_ping is True):\n",
    "        ws = websocket.WebSocketApp(apiUrl, on_message = on_message, on_open = on_open)\n",
    "        sh_obj.login(ws, True)\n",
    "    return\n",
    "\n",
    "def update():\n",
    "    global data\n",
    "    sh_obj.update(data)\n",
    "    return\n",
    "\n",
    "def on_message(ws, message):\n",
    "    global data\n",
    "    data = json.loads(message)\n",
    "    threading.Thread(target=update).start()\n",
    "    return\n",
    "\n",
    "def start():\n",
    "    global ws, sh_obj\n",
    "    ws = websocket.WebSocketApp(apiUrl, on_message = on_message, on_open = on_open, on_close = on_close)\n",
    "    sh_obj = SharedObjects.SharedObjects(ws)\n",
    "threading.Thread(target=start).start()"
   ]
  },
  {
   "cell_type": "code",
   "execution_count": null,
   "metadata": {},
   "outputs": [],
   "source": [
    "#sh_obj.prs.get('R_75').trading_pip"
   ]
  },
  {
   "cell_type": "code",
   "execution_count": null,
   "metadata": {},
   "outputs": [],
   "source": [
    "#sh_obj.logout()"
   ]
  },
  {
   "cell_type": "code",
   "execution_count": null,
   "metadata": {},
   "outputs": [],
   "source": [
    "#sh_obj.tables_volatility_indices()"
   ]
  },
  {
   "cell_type": "code",
   "execution_count": null,
   "metadata": {},
   "outputs": [],
   "source": [
    "#sh_obj.pairwise_forex_major()\n",
    "#sh_obj.pairwise_volatility_indices()\n",
    "#sh_obj.ta_plot()"
   ]
  },
  {
   "cell_type": "code",
   "execution_count": 49,
   "metadata": {},
   "outputs": [],
   "source": [
    "try:\n",
    "    ws.send(json.dumps({\n",
    "                     \"proposal\": 1,\n",
    "                     \"amount\": str(0.5),\n",
    "                     \"basis\": \"stake\",\n",
    "                     \"contract_type\": \"ONETOUCH\",\n",
    "                     \"currency\": \"USD\",\n",
    "                     \"duration\": str(5),\n",
    "                     \"duration_unit\": \"m\",\n",
    "                     \"barrier\": \"+0.0\",\n",
    "                     \"symbol\": \"R_100\"\n",
    "                    }))\n",
    "except websocket.WebSocketConnectionClosedException as e:\n",
    "    ws.run_forever()"
   ]
  },
  {
   "cell_type": "code",
   "execution_count": null,
   "metadata": {},
   "outputs": [],
   "source": [
    "#sh_obj.proposals\n",
    "#sh_obj.prs.get('R_25').trading_pip"
   ]
  },
  {
   "cell_type": "code",
   "execution_count": 52,
   "metadata": {},
   "outputs": [],
   "source": [
    "#sh_obj.debug"
   ]
  },
  {
   "cell_type": "code",
   "execution_count": 43,
   "metadata": {},
   "outputs": [
    {
     "data": {
      "text/plain": [
       "{'echo_req': {'subscribe': 1, 'ticks': 'R_50'},\n",
       " 'msg_type': 'tick',\n",
       " 'tick': {'ask': '243.0820',\n",
       "  'bid': '243.0420',\n",
       "  'epoch': '1547245324',\n",
       "  'id': 'fd70f438-443f-3688-fb39-8bb9a116d1c3',\n",
       "  'quote': '243.0620',\n",
       "  'symbol': 'R_50'}}"
      ]
     },
     "execution_count": 43,
     "metadata": {},
     "output_type": "execute_result"
    }
   ],
   "source": [
    "data"
   ]
  },
  {
   "cell_type": "code",
   "execution_count": null,
   "metadata": {},
   "outputs": [],
   "source": []
  }
 ],
 "metadata": {
  "kernelspec": {
   "display_name": "Python 3",
   "language": "python",
   "name": "python3"
  },
  "language_info": {
   "codemirror_mode": {
    "name": "ipython",
    "version": 3
   },
   "file_extension": ".py",
   "mimetype": "text/x-python",
   "name": "python",
   "nbconvert_exporter": "python",
   "pygments_lexer": "ipython3",
   "version": "3.7.1"
  }
 },
 "nbformat": 4,
 "nbformat_minor": 2
}
