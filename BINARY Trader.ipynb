{
 "cells": [
  {
   "cell_type": "code",
   "execution_count": null,
   "metadata": {},
   "outputs": [],
   "source": [
    "#!pip install -r requirements.txt"
   ]
  },
  {
   "cell_type": "code",
   "execution_count": 2,
   "metadata": {},
   "outputs": [],
   "source": [
    "import websocket\n",
    "import json\n",
    "import os\n",
    "import importlib\n",
    "import sys\n",
    "import warnings\n",
    "mpath = os.getcwd() + '/libs'\n",
    "sys.path.append(mpath)"
   ]
  },
  {
   "cell_type": "code",
   "execution_count": null,
   "metadata": {},
   "outputs": [],
   "source": [
    "import SharedObjects\n",
    "import pairs\n",
    "importlib.reload(SharedObjects)\n",
    "importlib.reload(pairs)\n",
    "import threading"
   ]
  },
  {
   "cell_type": "code",
   "execution_count": null,
   "metadata": {},
   "outputs": [],
   "source": [
    "ws = None\n",
    "data = None\n",
    "\n",
    "apiUrl = \"wss://ws.binaryws.com/websockets/v3?app_id=15805\"\n",
    "def on_open(ws):\n",
    "    json_data = json.dumps({'authorize':'1aStI5HCcty55Ly'})\n",
    "    ws.send(json_data)\n",
    "    return\n",
    "\n",
    "def on_close(ws):\n",
    "    if(sh_obj.bool_ping is True):\n",
    "        ws = websocket.WebSocketApp(apiUrl, on_message = on_message, on_open = on_open)\n",
    "        sh_obj.login(ws, True)\n",
    "    return\n",
    "\n",
    "def on_error(ws):\n",
    "    if(sh_obj.bool_ping is True):\n",
    "        ws = websocket.WebSocketApp(apiUrl, on_message = on_message, on_open = on_open)\n",
    "        sh_obj.login(ws, True)\n",
    "    return\n",
    "\n",
    "def update():\n",
    "    global data\n",
    "    sh_obj.update(data)\n",
    "    return\n",
    "\n",
    "def on_message(ws, message):\n",
    "    global data\n",
    "    data = json.loads(message)\n",
    "    threading.Thread(target=update).start()\n",
    "    return\n",
    "\n",
    "def start():\n",
    "    global ws, sh_obj\n",
    "    ws = websocket.WebSocketApp(apiUrl, on_message = on_message, on_open = on_open, on_close = on_close)\n",
    "    sh_obj = SharedObjects.SharedObjects(ws)\n",
    "threading.Thread(target=start).start()"
   ]
  },
  {
   "cell_type": "code",
   "execution_count": null,
   "metadata": {},
   "outputs": [],
   "source": [
    "#df.to_csv('data/five_min_pips.csv', encoding='utf-8', index=False)"
   ]
  },
  {
   "cell_type": "code",
   "execution_count": null,
   "metadata": {},
   "outputs": [],
   "source": [
    "sh_obj.views()"
   ]
  },
  {
   "cell_type": "code",
   "execution_count": null,
   "metadata": {},
   "outputs": [],
   "source": []
  }
 ],
 "metadata": {
  "kernelspec": {
   "display_name": "Python 3",
   "language": "python",
   "name": "python3"
  },
  "language_info": {
   "codemirror_mode": {
    "name": "ipython",
    "version": 3
   },
   "file_extension": ".py",
   "mimetype": "text/x-python",
   "name": "python",
   "nbconvert_exporter": "python",
   "pygments_lexer": "ipython3",
   "version": "3.7.1"
  }
 },
 "nbformat": 4,
 "nbformat_minor": 2
}
