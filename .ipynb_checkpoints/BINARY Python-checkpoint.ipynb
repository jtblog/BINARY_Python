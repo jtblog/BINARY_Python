{
 "cells": [
  {
   "cell_type": "code",
   "execution_count": 1,
   "metadata": {},
   "outputs": [],
   "source": [
    "import websocket\n",
    "import json\n",
    "\n",
    "def on_open(ws):\n",
    "    json_data = json.dumps({'ticks':'R_100'})\n",
    "    ws.send(json_data)\n",
    "\n",
    "def on_message(ws, message):\n",
    "    print('ticks update: %s' % message)"
   ]
  },
  {
   "cell_type": "code",
   "execution_count": null,
   "metadata": {},
   "outputs": [],
   "source": [
    "#apiUrl = \"wss://ws.binaryws.com/websockets/v3?app_id=1089\"\n",
    "#ws = websocket.WebSocketApp(apiUrl, on_message = on_message, on_open = on_open)\n",
    "#ws.run_forever()"
   ]
  },
  {
   "cell_type": "code",
   "execution_count": null,
   "metadata": {},
   "outputs": [],
   "source": [
    "ws.send(json.dumps({'forget_all': 'ticks'}))"
   ]
  },
  {
   "cell_type": "code",
   "execution_count": null,
   "metadata": {},
   "outputs": [],
   "source": []
  }
 ],
 "metadata": {
  "kernelspec": {
   "display_name": "Python 3",
   "language": "python",
   "name": "python3"
  },
  "language_info": {
   "codemirror_mode": {
    "name": "ipython",
    "version": 3
   },
   "file_extension": ".py",
   "mimetype": "text/x-python",
   "name": "python",
   "nbconvert_exporter": "python",
   "pygments_lexer": "ipython3",
   "version": "3.8.5"
  }
 },
 "nbformat": 4,
 "nbformat_minor": 4
}
