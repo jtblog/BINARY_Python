{
 "cells": [
  {
   "cell_type": "code",
   "execution_count": null,
   "metadata": {},
   "outputs": [],
   "source": [
    "#!pip install -r requirements.txt"
   ]
  },
  {
   "cell_type": "code",
   "execution_count": null,
   "metadata": {},
   "outputs": [],
   "source": [
    "import websocket\n",
    "import json\n",
    "from ipywidgets import interact, interactive, fixed, interact_manual\n",
    "\n",
    "import pandas\n",
    "import os\n",
    "import threading\n",
    "import time\n",
    "import importlib\n",
    "import sys\n",
    "import warnings\n",
    "mpath = os.getcwd() + '/libs'\n",
    "sys.path.append(mpath)"
   ]
  },
  {
   "cell_type": "code",
   "execution_count": null,
   "metadata": {},
   "outputs": [],
   "source": [
    "import SharedObjects\n",
    "import pairs\n",
    "importlib.reload(SharedObjects)\n",
    "importlib.reload(pairs)"
   ]
  },
  {
   "cell_type": "code",
   "execution_count": null,
   "metadata": {},
   "outputs": [],
   "source": [
    "ws = None\n",
    "data = None\n",
    "\n",
    "apiUrl = \"wss://ws.binaryws.com/websockets/v3?app_id=15805\"\n",
    "def on_open(ws):\n",
    "    json_data = json.dumps({'authorize':'1aStI5HCcty55Ly'})\n",
    "    ws.send(json_data)\n",
    "    return\n",
    "\n",
    "def on_message(ws, message):\n",
    "    global data\n",
    "    data = json.loads(message)\n",
    "    sh_obj.update(data)\n",
    "    return\n",
    "    \n",
    "ws = websocket.WebSocketApp(apiUrl, on_message = on_message, on_open = on_open)\n",
    "sh_obj = SharedObjects.SharedObjects(ws)"
   ]
  },
  {
   "cell_type": "code",
   "execution_count": null,
   "metadata": {},
   "outputs": [],
   "source": [
    "#sh_obj.prs.get('frxAUDUSD').prices"
   ]
  },
  {
   "cell_type": "code",
   "execution_count": null,
   "metadata": {},
   "outputs": [],
   "source": [
    "#sh_obj.logout()\n",
    "#ws.send(json.dumps({\"forget_all\": \"ticks\"}))\n",
    "#ws.send(json.dumps({'logout': 1}))"
   ]
  },
  {
   "cell_type": "code",
   "execution_count": null,
   "metadata": {},
   "outputs": [],
   "source": [
    "plt = interactive(sh_obj.pairwise_plot, y = sh_obj.forex_major, x = sh_obj.forex_major)\n",
    "display(plt)"
   ]
  },
  {
   "cell_type": "code",
   "execution_count": null,
   "metadata": {
    "scrolled": true
   },
   "outputs": [],
   "source": [
    "def view():\n",
    "    display(sh_obj.coint_mat)\n",
    "    display(sh_obj.corr_mat)\n",
    "    return()\n",
    "x = interactive(view)\n",
    "x"
   ]
  },
  {
   "cell_type": "code",
   "execution_count": null,
   "metadata": {},
   "outputs": [],
   "source": []
  }
 ],
 "metadata": {
  "kernelspec": {
   "display_name": "Python 3",
   "language": "python",
   "name": "python3"
  },
  "language_info": {
   "codemirror_mode": {
    "name": "ipython",
    "version": 3
   },
   "file_extension": ".py",
   "mimetype": "text/x-python",
   "name": "python",
   "nbconvert_exporter": "python",
   "pygments_lexer": "ipython3",
   "version": "3.7.1"
  }
 },
 "nbformat": 4,
 "nbformat_minor": 2
}
