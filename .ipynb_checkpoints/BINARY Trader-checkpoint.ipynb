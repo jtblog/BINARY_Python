{
 "cells": [
  {
   "cell_type": "code",
   "execution_count": 40,
   "metadata": {},
   "outputs": [],
   "source": [
    "#!pip install -r requirements.txt"
   ]
  },
  {
   "cell_type": "code",
   "execution_count": 283,
   "metadata": {},
   "outputs": [],
   "source": [
    "import websocket\n",
    "import json\n",
    "import os\n",
    "import importlib\n",
    "import sys\n",
    "import warnings\n",
    "mpath = os.getcwd() + '/libs'\n",
    "sys.path.append(mpath)"
   ]
  },
  {
   "cell_type": "code",
   "execution_count": 284,
   "metadata": {},
   "outputs": [
    {
     "data": {
      "text/plain": [
       "<module 'pairs' from 'C:\\\\Users\\\\dell\\\\Documents\\\\GitHub\\\\BINARY_Python/libs\\\\pairs.py'>"
      ]
     },
     "execution_count": 284,
     "metadata": {},
     "output_type": "execute_result"
    }
   ],
   "source": [
    "import SharedObjects\n",
    "import pairs\n",
    "importlib.reload(SharedObjects)\n",
    "importlib.reload(pairs)"
   ]
  },
  {
   "cell_type": "code",
   "execution_count": 285,
   "metadata": {},
   "outputs": [],
   "source": [
    "ws = None\n",
    "data = None\n",
    "\n",
    "apiUrl = \"wss://ws.binaryws.com/websockets/v3?app_id=15805\"\n",
    "def on_open(ws):\n",
    "    json_data = json.dumps({'authorize':'1aStI5HCcty55Ly'})\n",
    "    ws.send(json_data)\n",
    "    return\n",
    "\n",
    "def on_close(ws):\n",
    "    if(sh_obj.bool_ping is True):\n",
    "        ws = websocket.WebSocketApp(apiUrl, on_message = on_message, on_open = on_open)\n",
    "        sh_obj.login(ws)\n",
    "    return\n",
    "\n",
    "def on_message(ws, message):\n",
    "    global data\n",
    "    data = json.loads(message)\n",
    "    sh_obj.update(data)\n",
    "    return\n",
    "    \n",
    "ws = websocket.WebSocketApp(apiUrl, on_message = on_message, on_open = on_open, on_close = on_close)\n",
    "sh_obj = SharedObjects.SharedObjects(ws)"
   ]
  },
  {
   "cell_type": "code",
   "execution_count": 62,
   "metadata": {},
   "outputs": [],
   "source": [
    "#sh_obj.prs.get('frxAUDUSD').prices"
   ]
  },
  {
   "cell_type": "code",
   "execution_count": 282,
   "metadata": {},
   "outputs": [],
   "source": [
    "#sh_obj.logout()"
   ]
  },
  {
   "cell_type": "code",
   "execution_count": 290,
   "metadata": {},
   "outputs": [
    {
     "data": {
      "application/vnd.jupyter.widget-view+json": {
       "model_id": "a6aa1784934a44579a7df513754f350e",
       "version_major": 2,
       "version_minor": 0
      },
      "text/plain": [
       "interactive(children=(Dropdown(description='y', options=('frxEURAUD', 'frxAUDUSD', 'frxAUDJPY', 'frxEURCAD', '…"
      ]
     },
     "metadata": {},
     "output_type": "display_data"
    }
   ],
   "source": [
    "sh_obj.ta_plot()"
   ]
  },
  {
   "cell_type": "code",
   "execution_count": 289,
   "metadata": {},
   "outputs": [
    {
     "data": {
      "application/vnd.jupyter.widget-view+json": {
       "model_id": "e07793f90be246dd8d2df0012b8c3389",
       "version_major": 2,
       "version_minor": 0
      },
      "text/plain": [
       "interactive(children=(Dropdown(description='y', options=('R_10', 'R_25', 'R_50', 'R_75', 'R_100', 'RDBEAR', 'R…"
      ]
     },
     "metadata": {},
     "output_type": "display_data"
    }
   ],
   "source": [
    "#sh_obj.pairwise_forex_major()\n",
    "sh_obj.pairwise_volatility_indices()"
   ]
  }
 ],
 "metadata": {
  "kernelspec": {
   "display_name": "Python 3",
   "language": "python",
   "name": "python3"
  },
  "language_info": {
   "codemirror_mode": {
    "name": "ipython",
    "version": 3
   },
   "file_extension": ".py",
   "mimetype": "text/x-python",
   "name": "python",
   "nbconvert_exporter": "python",
   "pygments_lexer": "ipython3",
   "version": "3.7.1"
  }
 },
 "nbformat": 4,
 "nbformat_minor": 2
}
